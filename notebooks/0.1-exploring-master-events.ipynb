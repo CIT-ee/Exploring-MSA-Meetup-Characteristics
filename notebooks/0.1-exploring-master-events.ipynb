{
 "cells": [
  {
   "cell_type": "code",
   "execution_count": 35,
   "metadata": {},
   "outputs": [],
   "source": [
    "import os, sys\n",
    "sys.path.insert(0, os.environ['PROJECT_PATH'])"
   ]
  },
  {
   "cell_type": "code",
   "execution_count": 36,
   "metadata": {},
   "outputs": [],
   "source": [
    "from config.resources import path_to"
   ]
  },
  {
   "cell_type": "code",
   "execution_count": 37,
   "metadata": {},
   "outputs": [],
   "source": [
    "import pandas as pd"
   ]
  },
  {
   "cell_type": "code",
   "execution_count": 38,
   "metadata": {},
   "outputs": [],
   "source": [
    "path_to_src = path_to['meetup_events'].format(node='events', query='topics')\n",
    "src_df = pd.read_csv(path_to_src, encoding='latin1')"
   ]
  },
  {
   "cell_type": "code",
   "execution_count": 39,
   "metadata": {},
   "outputs": [],
   "source": [
    "src_df['formatted_time'] = pd.to_datetime(src_df['time'], unit='ms')"
   ]
  },
  {
   "cell_type": "code",
   "execution_count": 40,
   "metadata": {},
   "outputs": [
    {
     "data": {
      "text/html": [
       "<div>\n",
       "<style>\n",
       "    .dataframe thead tr:only-child th {\n",
       "        text-align: right;\n",
       "    }\n",
       "\n",
       "    .dataframe thead th {\n",
       "        text-align: left;\n",
       "    }\n",
       "\n",
       "    .dataframe tbody tr th {\n",
       "        vertical-align: top;\n",
       "    }\n",
       "</style>\n",
       "<table border=\"1\" class=\"dataframe\">\n",
       "  <thead>\n",
       "    <tr style=\"text-align: right;\">\n",
       "      <th></th>\n",
       "      <th>group.category.id</th>\n",
       "      <th>id</th>\n",
       "      <th>time</th>\n",
       "      <th>yes_rsvp_count</th>\n",
       "      <th>formatted_time</th>\n",
       "    </tr>\n",
       "  </thead>\n",
       "  <tbody>\n",
       "    <tr>\n",
       "      <th>0</th>\n",
       "      <td>23</td>\n",
       "      <td>243497739</td>\n",
       "      <td>1517961600000</td>\n",
       "      <td>6</td>\n",
       "      <td>2018-02-07 00:00:00</td>\n",
       "    </tr>\n",
       "    <tr>\n",
       "      <th>1</th>\n",
       "      <td>14</td>\n",
       "      <td>wkrmfpyxdbnb</td>\n",
       "      <td>1518274800000</td>\n",
       "      <td>5</td>\n",
       "      <td>2018-02-10 15:00:00</td>\n",
       "    </tr>\n",
       "    <tr>\n",
       "      <th>2</th>\n",
       "      <td>23</td>\n",
       "      <td>243495020</td>\n",
       "      <td>1518566400000</td>\n",
       "      <td>4</td>\n",
       "      <td>2018-02-14 00:00:00</td>\n",
       "    </tr>\n",
       "    <tr>\n",
       "      <th>3</th>\n",
       "      <td>23</td>\n",
       "      <td>243495815</td>\n",
       "      <td>1518739200000</td>\n",
       "      <td>7</td>\n",
       "      <td>2018-02-16 00:00:00</td>\n",
       "    </tr>\n",
       "    <tr>\n",
       "      <th>4</th>\n",
       "      <td>14</td>\n",
       "      <td>wkrmfpyxdbwb</td>\n",
       "      <td>1518879600000</td>\n",
       "      <td>4</td>\n",
       "      <td>2018-02-17 15:00:00</td>\n",
       "    </tr>\n",
       "  </tbody>\n",
       "</table>\n",
       "</div>"
      ],
      "text/plain": [
       "   group.category.id            id           time  yes_rsvp_count  \\\n",
       "0                 23     243497739  1517961600000               6   \n",
       "1                 14  wkrmfpyxdbnb  1518274800000               5   \n",
       "2                 23     243495020  1518566400000               4   \n",
       "3                 23     243495815  1518739200000               7   \n",
       "4                 14  wkrmfpyxdbwb  1518879600000               4   \n",
       "\n",
       "       formatted_time  \n",
       "0 2018-02-07 00:00:00  \n",
       "1 2018-02-10 15:00:00  \n",
       "2 2018-02-14 00:00:00  \n",
       "3 2018-02-16 00:00:00  \n",
       "4 2018-02-17 15:00:00  "
      ]
     },
     "execution_count": 40,
     "metadata": {},
     "output_type": "execute_result"
    }
   ],
   "source": [
    "src_df.head()"
   ]
  },
  {
   "cell_type": "code",
   "execution_count": 41,
   "metadata": {},
   "outputs": [],
   "source": [
    "import seaborn as sns, matplotlib.pyplot as plt\n",
    "\n",
    "sns.set()\n",
    "%matplotlib inline"
   ]
  },
  {
   "cell_type": "code",
   "execution_count": 42,
   "metadata": {},
   "outputs": [],
   "source": [
    "src_df['months_since'] = src_df['formatted_time'].apply(lambda row: row.month + 12*(row.year-2018))\n",
    "events_count = src_df.groupby('months_since').count().reset_index(drop=True)"
   ]
  },
  {
   "cell_type": "code",
   "execution_count": 44,
   "metadata": {},
   "outputs": [
    {
     "name": "stdout",
     "output_type": "stream",
     "text": [
      "\n"
     ]
    },
    {
     "data": {
      "image/png": "[encoded data removed]",
      "text/plain": [
       "<matplotlib.figure.Figure at 0x7f168f11ea10>"
      ]
     },
     "metadata": {},
     "output_type": "display_data"
    }
   ],
   "source": [
    "g = sns.factorplot(x=events_count.index, y='id', size=10, kind='bar', data=events_count)\n",
    "g.set_ylabels('Number of Events')\n",
    "g.set_xlabels('Number of months since 2/7/2018')\n",
    "print()"
   ]
  }
 ],
 "metadata": {
  "kernelspec": {
   "display_name": "Python 2",
   "language": "python",
   "name": "python2"
  },
  "language_info": {
   "codemirror_mode": {
    "name": "ipython",
    "version": 2
   },
   "file_extension": ".py",
   "mimetype": "text/x-python",
   "name": "python",
   "nbconvert_exporter": "python",
   "pygments_lexer": "ipython2",
   "version": "2.7.12"
  }
 },
 "nbformat": 4,
 "nbformat_minor": 2
}
