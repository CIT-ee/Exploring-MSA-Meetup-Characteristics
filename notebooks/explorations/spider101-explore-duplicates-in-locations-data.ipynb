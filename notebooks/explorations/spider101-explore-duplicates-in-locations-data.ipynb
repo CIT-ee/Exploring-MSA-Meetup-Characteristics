{
 "cells": [
  {
   "cell_type": "code",
   "execution_count": 24,
   "metadata": {},
   "outputs": [],
   "source": [
    "import os, sys, pandas as pd, geocoder\n",
    "\n",
    "# add the 'src' directory as one where we can import modules\n",
    "sys.path.append(os.environ['PROJECT_PATH'])"
   ]
  },
  {
   "cell_type": "code",
   "execution_count": 2,
   "metadata": {},
   "outputs": [],
   "source": [
    "from config.resources import path_to"
   ]
  },
  {
   "cell_type": "code",
   "execution_count": 44,
   "metadata": {},
   "outputs": [
    {
     "data": {
      "text/plain": [
       "(141397, 7)"
      ]
     },
     "execution_count": 44,
     "metadata": {},
     "output_type": "execute_result"
    }
   ],
   "source": [
    "# load the dataframe\n",
    "meetups_locations_df = pd.read_csv(path_to['meetup_locations'], encoding='latin1')\n",
    "meetups_locations_df.shape"
   ]
  },
  {
   "cell_type": "code",
   "execution_count": 45,
   "metadata": {},
   "outputs": [
    {
     "data": {
      "text/plain": [
       "35427"
      ]
     },
     "execution_count": 45,
     "metadata": {},
     "output_type": "execute_result"
    }
   ],
   "source": [
    "# find number of unique city-state pairs\n",
    "meetup_state_cities = meetups_locations_df[ ['City', 'State'] ].apply(lambda x: \", \".join(x), axis=1)\n",
    "len(set(meetup_state_cities.tolist()))"
   ]
  },
  {
   "cell_type": "code",
   "execution_count": 19,
   "metadata": {},
   "outputs": [
    {
     "data": {
      "text/html": [
       "<div>\n",
       "<style>\n",
       "    .dataframe thead tr:only-child th {\n",
       "        text-align: right;\n",
       "    }\n",
       "\n",
       "    .dataframe thead th {\n",
       "        text-align: left;\n",
       "    }\n",
       "\n",
       "    .dataframe tbody tr th {\n",
       "        vertical-align: top;\n",
       "    }\n",
       "</style>\n",
       "<table border=\"1\" class=\"dataframe\">\n",
       "  <thead>\n",
       "    <tr style=\"text-align: right;\">\n",
       "      <th></th>\n",
       "      <th>City</th>\n",
       "      <th>ZipCode</th>\n",
       "      <th>Longitude</th>\n",
       "      <th>Country</th>\n",
       "      <th>State</th>\n",
       "      <th>Latitude</th>\n",
       "      <th>Is_Incorporated</th>\n",
       "      <th>City_States</th>\n",
       "    </tr>\n",
       "  </thead>\n",
       "  <tbody>\n",
       "    <tr>\n",
       "      <th>113042</th>\n",
       "      <td>Aaronsburg</td>\n",
       "      <td>16820</td>\n",
       "      <td>-77.39</td>\n",
       "      <td>USA</td>\n",
       "      <td>PA</td>\n",
       "      <td>40.86</td>\n",
       "      <td>True</td>\n",
       "      <td>Aaronsburg, PA</td>\n",
       "    </tr>\n",
       "    <tr>\n",
       "      <th>63944</th>\n",
       "      <td>Aaronsburg</td>\n",
       "      <td>16820</td>\n",
       "      <td>-77.39</td>\n",
       "      <td>USA</td>\n",
       "      <td>PA</td>\n",
       "      <td>40.86</td>\n",
       "      <td>True</td>\n",
       "      <td>Aaronsburg, PA</td>\n",
       "    </tr>\n",
       "    <tr>\n",
       "      <th>6514</th>\n",
       "      <td>Abbeville</td>\n",
       "      <td>36310</td>\n",
       "      <td>-85.27</td>\n",
       "      <td>USA</td>\n",
       "      <td>AL</td>\n",
       "      <td>31.55</td>\n",
       "      <td>True</td>\n",
       "      <td>Abbeville, AL</td>\n",
       "    </tr>\n",
       "    <tr>\n",
       "      <th>5554</th>\n",
       "      <td>Abbeville</td>\n",
       "      <td>36310</td>\n",
       "      <td>-85.27</td>\n",
       "      <td>USA</td>\n",
       "      <td>AL</td>\n",
       "      <td>31.55</td>\n",
       "      <td>True</td>\n",
       "      <td>Abbeville, AL</td>\n",
       "    </tr>\n",
       "    <tr>\n",
       "      <th>5296</th>\n",
       "      <td>Abbeville</td>\n",
       "      <td>36310</td>\n",
       "      <td>-85.27</td>\n",
       "      <td>USA</td>\n",
       "      <td>AL</td>\n",
       "      <td>31.55</td>\n",
       "      <td>True</td>\n",
       "      <td>Abbeville, AL</td>\n",
       "    </tr>\n",
       "  </tbody>\n",
       "</table>\n",
       "</div>"
      ],
      "text/plain": [
       "              City  ZipCode  Longitude Country State  Latitude  \\\n",
       "113042  Aaronsburg    16820     -77.39     USA    PA     40.86   \n",
       "63944   Aaronsburg    16820     -77.39     USA    PA     40.86   \n",
       "6514     Abbeville    36310     -85.27     USA    AL     31.55   \n",
       "5554     Abbeville    36310     -85.27     USA    AL     31.55   \n",
       "5296     Abbeville    36310     -85.27     USA    AL     31.55   \n",
       "\n",
       "        Is_Incorporated     City_States  \n",
       "113042             True  Aaronsburg, PA  \n",
       "63944              True  Aaronsburg, PA  \n",
       "6514               True   Abbeville, AL  \n",
       "5554               True   Abbeville, AL  \n",
       "5296               True   Abbeville, AL  "
      ]
     },
     "execution_count": 19,
     "metadata": {},
     "output_type": "execute_result"
    }
   ],
   "source": [
    "# inspect duplicate city-state records\n",
    "meetups_locations_df['City_States'] = meetups_locations_df[ ['City', 'State'] ].apply(lambda x: \", \".join(x), axis=1)\n",
    "sorted_meetup_locations_df = meetups_locations_df.sort_values('City_States')\n",
    "sorted_meetup_locations_df.head()"
   ]
  },
  {
   "cell_type": "code",
   "execution_count": 46,
   "metadata": {},
   "outputs": [
    {
     "data": {
      "text/plain": [
       "(35427, 7)"
      ]
     },
     "execution_count": 46,
     "metadata": {},
     "output_type": "execute_result"
    }
   ],
   "source": [
    "# drop all duplicates and check dataframe size\n",
    "meetup_locations_trimmed = meetups_locations_df.drop_duplicates()\n",
    "meetup_locations_trimmed.shape"
   ]
  },
  {
   "cell_type": "code",
   "execution_count": 20,
   "metadata": {},
   "outputs": [
    {
     "data": {
      "text/plain": [
       "(25071, 8)"
      ]
     },
     "execution_count": 20,
     "metadata": {},
     "output_type": "execute_result"
    }
   ],
   "source": [
    "# drop all duplicates based on the Latitude and Longitude columns and check dataframe size\n",
    "meetups_locations_trimmed_by_latlng_df = meetups_locations_df.drop_duplicates(['Latitude', 'Longitude'])\n",
    "meetups_locations_trimmed_by_latlng_df.shape"
   ]
  },
  {
   "cell_type": "code",
   "execution_count": 10,
   "metadata": {},
   "outputs": [
    {
     "data": {
      "text/html": [
       "<div>\n",
       "<style>\n",
       "    .dataframe thead tr:only-child th {\n",
       "        text-align: right;\n",
       "    }\n",
       "\n",
       "    .dataframe thead th {\n",
       "        text-align: left;\n",
       "    }\n",
       "\n",
       "    .dataframe tbody tr th {\n",
       "        vertical-align: top;\n",
       "    }\n",
       "</style>\n",
       "<table border=\"1\" class=\"dataframe\">\n",
       "  <thead>\n",
       "    <tr style=\"text-align: right;\">\n",
       "      <th></th>\n",
       "      <th>City</th>\n",
       "      <th>ZipCode</th>\n",
       "      <th>Longitude</th>\n",
       "      <th>Country</th>\n",
       "      <th>State</th>\n",
       "      <th>Latitude</th>\n",
       "      <th>Is_Incorporated</th>\n",
       "      <th>City_States</th>\n",
       "    </tr>\n",
       "  </thead>\n",
       "  <tbody>\n",
       "    <tr>\n",
       "      <th>11101</th>\n",
       "      <td>Inarajan</td>\n",
       "      <td>96917</td>\n",
       "      <td>144.74</td>\n",
       "      <td>USA</td>\n",
       "      <td>GU</td>\n",
       "      <td>13.28</td>\n",
       "      <td>False</td>\n",
       "      <td>Inarajan, GU</td>\n",
       "    </tr>\n",
       "    <tr>\n",
       "      <th>123807</th>\n",
       "      <td>Santa Rita</td>\n",
       "      <td>96915</td>\n",
       "      <td>144.67</td>\n",
       "      <td>USA</td>\n",
       "      <td>GU</td>\n",
       "      <td>13.39</td>\n",
       "      <td>False</td>\n",
       "      <td>Santa Rita, GU</td>\n",
       "    </tr>\n",
       "    <tr>\n",
       "      <th>21305</th>\n",
       "      <td>Harmon</td>\n",
       "      <td>96913</td>\n",
       "      <td>144.79</td>\n",
       "      <td>USA</td>\n",
       "      <td>GU</td>\n",
       "      <td>13.46</td>\n",
       "      <td>False</td>\n",
       "      <td>Harmon, GU</td>\n",
       "    </tr>\n",
       "    <tr>\n",
       "      <th>19212</th>\n",
       "      <td>Ordot</td>\n",
       "      <td>96910</td>\n",
       "      <td>144.75</td>\n",
       "      <td>USA</td>\n",
       "      <td>GU</td>\n",
       "      <td>13.48</td>\n",
       "      <td>False</td>\n",
       "      <td>Ordot, GU</td>\n",
       "    </tr>\n",
       "    <tr>\n",
       "      <th>130567</th>\n",
       "      <td>Frederiksted</td>\n",
       "      <td>840</td>\n",
       "      <td>-64.88</td>\n",
       "      <td>USA</td>\n",
       "      <td>VI</td>\n",
       "      <td>17.71</td>\n",
       "      <td>False</td>\n",
       "      <td>Frederiksted, VI</td>\n",
       "    </tr>\n",
       "  </tbody>\n",
       "</table>\n",
       "</div>"
      ],
      "text/plain": [
       "                City  ZipCode  Longitude Country State  Latitude  \\\n",
       "11101       Inarajan    96917     144.74     USA    GU     13.28   \n",
       "123807    Santa Rita    96915     144.67     USA    GU     13.39   \n",
       "21305         Harmon    96913     144.79     USA    GU     13.46   \n",
       "19212          Ordot    96910     144.75     USA    GU     13.48   \n",
       "130567  Frederiksted      840     -64.88     USA    VI     17.71   \n",
       "\n",
       "        Is_Incorporated       City_States  \n",
       "11101             False      Inarajan, GU  \n",
       "123807            False    Santa Rita, GU  \n",
       "21305             False        Harmon, GU  \n",
       "19212             False         Ordot, GU  \n",
       "130567            False  Frederiksted, VI  "
      ]
     },
     "execution_count": 10,
     "metadata": {},
     "output_type": "execute_result"
    }
   ],
   "source": [
    "# inspect resulting dataframe sorted by the same fields\n",
    "meetups_locations_trimmed_by_latlng_df.sort_values(['Latitude', 'Longitude']).head()"
   ]
  },
  {
   "cell_type": "code",
   "execution_count": 43,
   "metadata": {},
   "outputs": [
    {
     "name": "stdout",
     "output_type": "stream",
     "text": [
      "(u'Inarajan, GU', [13.2791674, 144.7302198])\n",
      "(u'Santa Rita, GU', [13.2791674, 144.7302198])\n",
      "True\n"
     ]
    }
   ],
   "source": [
    "# check how different the latlng coordinates returned by a maps api queried by two different city-state\n",
    "# combination (which has same lat-long data in the dataframe) are \n",
    "location1 = meetups_locations_trimmed_by_latlng_df.sort_values(['Latitude', 'Longitude'])['City_States'].iloc[0]\n",
    "latlng1 = geocoder.google(location1).latlng\n",
    "\n",
    "location2 = meetups_locations_trimmed_by_latlng_df.sort_values(['Latitude', 'Longitude'])['City_States'].iloc[1]\n",
    "latlng2 = geocoder.google(location1).latlng\n",
    "\n",
    "print(location1, latlng1)\n",
    "print(location2, latlng2)\n",
    "print(latlng1 == latlng2)"
   ]
  }
 ],
 "metadata": {
  "kernelspec": {
   "display_name": "Python 2",
   "language": "python",
   "name": "python2"
  },
  "language_info": {
   "codemirror_mode": {
    "name": "ipython",
    "version": 2
   },
   "file_extension": ".py",
   "mimetype": "text/x-python",
   "name": "python",
   "nbconvert_exporter": "python",
   "pygments_lexer": "ipython2",
   "version": "2.7.12"
  }
 },
 "nbformat": 4,
 "nbformat_minor": 2
}
