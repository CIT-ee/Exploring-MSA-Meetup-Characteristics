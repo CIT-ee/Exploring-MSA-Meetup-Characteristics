{
 "cells": [
  {
   "cell_type": "code",
   "execution_count": 6,
   "metadata": {},
   "outputs": [],
   "source": [
    "import os, sys\n",
    "sys.path.insert(0, os.environ['PROJECT_PATH'])"
   ]
  },
  {
   "cell_type": "code",
   "execution_count": 7,
   "metadata": {},
   "outputs": [],
   "source": [
    "from config.resources import path_to\n",
    "\n",
    "import pandas as pd"
   ]
  },
  {
   "cell_type": "code",
   "execution_count": 8,
   "metadata": {},
   "outputs": [],
   "source": [
    "source_path = os.path.join(os.environ['DATA_PATH'], 'interim', 'meetup_locations.csv')\n",
    "dest_path = os.path.join(os.environ['DATA_PATH'], 'interim', 'augmented_meetup_locations.csv')"
   ]
  },
  {
   "cell_type": "code",
   "execution_count": 4,
   "metadata": {},
   "outputs": [],
   "source": [
    "src_df = pd.read_csv(source_path)"
   ]
  },
  {
   "cell_type": "code",
   "execution_count": 5,
   "metadata": {},
   "outputs": [
    {
     "name": "stdout",
     "output_type": "stream",
     "text": [
      "Processed 29259 rows..\r"
     ]
    }
   ],
   "source": [
    "from src.data.msa_mapper.map_loc_to_msa import MSAMapper\n",
    "\n",
    "msa_mapper_investor = MSAMapper(src_df.fillna(''))\n",
    "dest_df = msa_mapper_investor.map_data(data_type='latlng')\n",
    "\n",
    "dest_df.to_csv(dest_path, encoding='latin1', index=False)"
   ]
  },
  {
   "cell_type": "code",
   "execution_count": 9,
   "metadata": {},
   "outputs": [],
   "source": [
    "dest_df = pd.read_csv(dest_path, encoding='latin1')"
   ]
  },
  {
   "cell_type": "code",
   "execution_count": 12,
   "metadata": {},
   "outputs": [
    {
     "data": {
      "text/html": [
       "<div>\n",
       "<style>\n",
       "    .dataframe thead tr:only-child th {\n",
       "        text-align: right;\n",
       "    }\n",
       "\n",
       "    .dataframe thead th {\n",
       "        text-align: left;\n",
       "    }\n",
       "\n",
       "    .dataframe tbody tr th {\n",
       "        vertical-align: top;\n",
       "    }\n",
       "</style>\n",
       "<table border=\"1\" class=\"dataframe\">\n",
       "  <thead>\n",
       "    <tr style=\"text-align: right;\">\n",
       "      <th></th>\n",
       "      <th>City</th>\n",
       "      <th>Country</th>\n",
       "      <th>ZipCode</th>\n",
       "      <th>Longitude</th>\n",
       "      <th>State</th>\n",
       "      <th>Latitude</th>\n",
       "      <th>MSA_NAME</th>\n",
       "      <th>MSA_CODE</th>\n",
       "    </tr>\n",
       "  </thead>\n",
       "  <tbody>\n",
       "    <tr>\n",
       "      <th>3866</th>\n",
       "      <td>Nederland</td>\n",
       "      <td>USA</td>\n",
       "      <td>80466</td>\n",
       "      <td>-105.49</td>\n",
       "      <td>CO</td>\n",
       "      <td>39.96</td>\n",
       "      <td>Boulder, CO Metro Area</td>\n",
       "      <td>14500.0</td>\n",
       "    </tr>\n",
       "    <tr>\n",
       "      <th>3868</th>\n",
       "      <td>Ward</td>\n",
       "      <td>USA</td>\n",
       "      <td>80481</td>\n",
       "      <td>-105.48</td>\n",
       "      <td>CO</td>\n",
       "      <td>40.10</td>\n",
       "      <td>Boulder, CO Metro Area</td>\n",
       "      <td>14500.0</td>\n",
       "    </tr>\n",
       "    <tr>\n",
       "      <th>3869</th>\n",
       "      <td>Pinecliffe</td>\n",
       "      <td>USA</td>\n",
       "      <td>80471</td>\n",
       "      <td>-105.46</td>\n",
       "      <td>CO</td>\n",
       "      <td>39.94</td>\n",
       "      <td>Boulder, CO Metro Area</td>\n",
       "      <td>14500.0</td>\n",
       "    </tr>\n",
       "    <tr>\n",
       "      <th>3872</th>\n",
       "      <td>Allenspark</td>\n",
       "      <td>USA</td>\n",
       "      <td>80510</td>\n",
       "      <td>-105.52</td>\n",
       "      <td>CO</td>\n",
       "      <td>40.22</td>\n",
       "      <td>Boulder, CO Metro Area</td>\n",
       "      <td>14500.0</td>\n",
       "    </tr>\n",
       "    <tr>\n",
       "      <th>3874</th>\n",
       "      <td>Jamestown</td>\n",
       "      <td>USA</td>\n",
       "      <td>80455</td>\n",
       "      <td>-105.40</td>\n",
       "      <td>CO</td>\n",
       "      <td>40.10</td>\n",
       "      <td>Boulder, CO Metro Area</td>\n",
       "      <td>14500.0</td>\n",
       "    </tr>\n",
       "  </tbody>\n",
       "</table>\n",
       "</div>"
      ],
      "text/plain": [
       "            City Country  ZipCode  Longitude State  Latitude  \\\n",
       "3866   Nederland     USA    80466    -105.49    CO     39.96   \n",
       "3868        Ward     USA    80481    -105.48    CO     40.10   \n",
       "3869  Pinecliffe     USA    80471    -105.46    CO     39.94   \n",
       "3872  Allenspark     USA    80510    -105.52    CO     40.22   \n",
       "3874   Jamestown     USA    80455    -105.40    CO     40.10   \n",
       "\n",
       "                    MSA_NAME  MSA_CODE  \n",
       "3866  Boulder, CO Metro Area   14500.0  \n",
       "3868  Boulder, CO Metro Area   14500.0  \n",
       "3869  Boulder, CO Metro Area   14500.0  \n",
       "3872  Boulder, CO Metro Area   14500.0  \n",
       "3874  Boulder, CO Metro Area   14500.0  "
      ]
     },
     "execution_count": 12,
     "metadata": {},
     "output_type": "execute_result"
    }
   ],
   "source": [
    "# dest_df.head()\n",
    "msa_codes = [ 45940, 14500, 16820 ]\n",
    "subset_df = dest_df[ dest_df['MSA_CODE'].isin(msa_codes) ]\n",
    "\n",
    "subset_df.head()"
   ]
  },
  {
   "cell_type": "code",
   "execution_count": 13,
   "metadata": {},
   "outputs": [],
   "source": [
    "from src.data.make_dataset import build_meetup_events_data\n",
    "from config.api_specs import props_for\n",
    "\n",
    "path_to_src = os.path.join(os.environ['DATA_PATH'], 'interim', 'sample_meetup_locations.csv')\n",
    "subset_df.to_csv(path_to_src, encoding='latin1', index=False)\n",
    "\n",
    "path_to_dump = os.path.join(os.environ['DATA_PATH'], 'raw', 'topics', 'sample_events.csv')\n",
    "\n",
    "endpoint, query = 'events', 'topics'"
   ]
  },
  {
   "cell_type": "code",
   "execution_count": 14,
   "metadata": {},
   "outputs": [
    {
     "name": "stdout",
     "output_type": "stream",
     "text": [
      "\n",
      "Building meetup location - meetup event bridge. Please wait..\n",
      "Fetched events for 65 locations\n",
      "Building meetup location - meetup event bridge complete! Dumping event data to /home/banerjee_abhimanyu3/meetups/data/raw/topics/sample_events.csv\n",
      "\n"
     ]
    }
   ],
   "source": [
    "build_meetup_events_data(path_to_src, path_to_dump, query, props_for[endpoint][query]['only'], \n",
    "                         props_for[endpoint][query]['fields'], None, False)"
   ]
  }
 ],
 "metadata": {
  "kernelspec": {
   "display_name": "Python 2",
   "language": "python",
   "name": "python2"
  },
  "language_info": {
   "codemirror_mode": {
    "name": "ipython",
    "version": 2
   },
   "file_extension": ".py",
   "mimetype": "text/x-python",
   "name": "python",
   "nbconvert_exporter": "python",
   "pygments_lexer": "ipython2",
   "version": "2.7.12"
  }
 },
 "nbformat": 4,
 "nbformat_minor": 2
}
