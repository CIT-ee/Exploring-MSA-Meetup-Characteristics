{
 "cells": [
  {
   "cell_type": "code",
   "execution_count": 1,
   "metadata": {},
   "outputs": [],
   "source": [
    "import os, sys\n",
    "sys.path.insert(0, os.environ['PROJECT_PATH'])"
   ]
  },
  {
   "cell_type": "code",
   "execution_count": 5,
   "metadata": {},
   "outputs": [],
   "source": [
    "from config.resources import path_to\n",
    "\n",
    "import pandas as pd"
   ]
  },
  {
   "cell_type": "code",
   "execution_count": 3,
   "metadata": {},
   "outputs": [],
   "source": [
    "source_path = os.path.join(os.environ['DATA_PATH'], 'interim', 'meetup_locations.csv')\n",
    "dest_path = os.path.join(os.environ['DATA_PATH'], 'interim', 'augmented_meetup_locations.csv')"
   ]
  },
  {
   "cell_type": "code",
   "execution_count": 4,
   "metadata": {},
   "outputs": [],
   "source": [
    "src_df = pd.read_csv(source_path)"
   ]
  },
  {
   "cell_type": "code",
   "execution_count": 5,
   "metadata": {},
   "outputs": [
    {
     "name": "stdout",
     "output_type": "stream",
     "text": [
      "Processed 29259 rows..\r"
     ]
    }
   ],
   "source": [
    "from src.data.msa_mapper.map_loc_to_msa import MSAMapper\n",
    "\n",
    "msa_mapper_investor = MSAMapper(src_df.fillna(''))\n",
    "dest_df = msa_mapper_investor.map_data(data_type='latlng')\n",
    "\n",
    "dest_df.to_csv(dest_path, encoding='latin1', index=False)"
   ]
  },
  {
   "cell_type": "code",
   "execution_count": 6,
   "metadata": {},
   "outputs": [],
   "source": [
    "dest_df = pd.read_csv(dest_path, encoding='latin1')"
   ]
  },
  {
   "cell_type": "code",
   "execution_count": 9,
   "metadata": {},
   "outputs": [
    {
     "data": {
      "text/plain": [
       "(22, 8)"
      ]
     },
     "execution_count": 9,
     "metadata": {},
     "output_type": "execute_result"
    }
   ],
   "source": [
    "# dest_df.head()\n",
    "cities = [ 'Charlottesville', 'Boulder', 'Trenton' ]\n",
    "subset_df = dest_df[ dest_df['City'].isin(cities) ]\n",
    "subset_df.shape"
   ]
  },
  {
   "cell_type": "code",
   "execution_count": 12,
   "metadata": {},
   "outputs": [],
   "source": [
    "from src.data.make_dataset import build_meetup_events_data\n",
    "from config.api_specs import props_for\n",
    "\n",
    "path_to_src = os.path.join(os.environ['DATA_PATH'], 'interim', 'meetup_locations.csv')\n",
    "subset_df.to_csv(path_to_src, encoding='latin1', index=False)\n",
    "\n",
    "path_to_dump = os.path.join(os.environ['DATA_PATH'], 'raw', 'topics', 'sample_events.csv')\n",
    "\n",
    "endpoint, query = 'events', 'topics'"
   ]
  },
  {
   "cell_type": "code",
   "execution_count": 14,
   "metadata": {},
   "outputs": [
    {
     "name": "stdout",
     "output_type": "stream",
     "text": [
      "\n",
      "Building meetup location - meetup event bridge. Please wait..\n",
      "Fetched events for 22 locations\n",
      "Building meetup location - meetup event bridge complete! Dumping event data to /home/banerjee_abhimanyu3/meetups/data/raw/topics/sample_events.csv\n",
      "\n"
     ]
    }
   ],
   "source": [
    "build_meetup_events_data(path_to_src, path_to_dump, query, props_for[endpoint][query]['only'], \n",
    "                         props_for[endpoint][query]['fields'], None, False)"
   ]
  }
 ],
 "metadata": {
  "kernelspec": {
   "display_name": "Python 2",
   "language": "python",
   "name": "python2"
  },
  "language_info": {
   "codemirror_mode": {
    "name": "ipython",
    "version": 2
   },
   "file_extension": ".py",
   "mimetype": "text/x-python",
   "name": "python",
   "nbconvert_exporter": "python",
   "pygments_lexer": "ipython2",
   "version": "2.7.12"
  }
 },
 "nbformat": 4,
 "nbformat_minor": 2
}
